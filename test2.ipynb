{
 "cells": [
  {
   "cell_type": "code",
   "execution_count": 1,
   "metadata": {},
   "outputs": [],
   "source": [
    "import src.fetch as fetch\n",
    "import src.process as process\n",
    "import pandas as pd\n",
    "\n",
    "from sklearn.ensemble import GradientBoostingRegressor, RandomForestRegressor, RandomForestClassifier, GradientBoostingClassifier\n",
    "from sklearn.linear_model import LassoCV, RidgeCV, RidgeClassifierCV, SGDClassifier\n",
    "\n"
   ]
  },
  {
   "cell_type": "code",
   "execution_count": 2,
   "metadata": {},
   "outputs": [],
   "source": [
    "client = fetch.client(\"credentials.json\")\n",
    "\n",
    "query = fetch.FULL_QUERY"
   ]
  },
  {
   "cell_type": "code",
   "execution_count": 3,
   "metadata": {},
   "outputs": [
    {
     "data": {
      "text/html": [
       "<div>\n",
       "<style scoped>\n",
       "    .dataframe tbody tr th:only-of-type {\n",
       "        vertical-align: middle;\n",
       "    }\n",
       "\n",
       "    .dataframe tbody tr th {\n",
       "        vertical-align: top;\n",
       "    }\n",
       "\n",
       "    .dataframe thead th {\n",
       "        text-align: right;\n",
       "    }\n",
       "</style>\n",
       "<table border=\"1\" class=\"dataframe\">\n",
       "  <thead>\n",
       "    <tr style=\"text-align: right;\">\n",
       "      <th></th>\n",
       "      <th>Q001</th>\n",
       "      <th>Q006</th>\n",
       "      <th>nota_final</th>\n",
       "      <th>pop</th>\n",
       "      <th>pib_pc</th>\n",
       "      <th>cv_polio</th>\n",
       "      <th>hcsap</th>\n",
       "      <th>macsap</th>\n",
       "      <th>mi5</th>\n",
       "      <th>subnutricao</th>\n",
       "      <th>...</th>\n",
       "      <th>ga19</th>\n",
       "      <th>ppau</th>\n",
       "      <th>ti</th>\n",
       "      <th>pgcm</th>\n",
       "      <th>pnpcm</th>\n",
       "      <th>vci</th>\n",
       "      <th>vcn</th>\n",
       "      <th>vcm</th>\n",
       "      <th>ees</th>\n",
       "      <th>mees</th>\n",
       "    </tr>\n",
       "  </thead>\n",
       "  <tbody>\n",
       "    <tr>\n",
       "      <th>0</th>\n",
       "      <td>H</td>\n",
       "      <td>G</td>\n",
       "      <td>2654.0</td>\n",
       "      <td>95832</td>\n",
       "      <td>44304.781657</td>\n",
       "      <td>89.245283</td>\n",
       "      <td>1057.244276</td>\n",
       "      <td>206.701719</td>\n",
       "      <td>17.681729</td>\n",
       "      <td>4.198653</td>\n",
       "      <td>...</td>\n",
       "      <td>13.490504</td>\n",
       "      <td>1.911055</td>\n",
       "      <td>0.699937</td>\n",
       "      <td>0.454416</td>\n",
       "      <td>0.900853</td>\n",
       "      <td>254.668930</td>\n",
       "      <td>86.380651</td>\n",
       "      <td>260.957117</td>\n",
       "      <td>58.881551</td>\n",
       "      <td>77.380565</td>\n",
       "    </tr>\n",
       "    <tr>\n",
       "      <th>1</th>\n",
       "      <td>C</td>\n",
       "      <td>C</td>\n",
       "      <td>2592.9</td>\n",
       "      <td>7788</td>\n",
       "      <td>28530.854186</td>\n",
       "      <td>50.537634</td>\n",
       "      <td>216.543958</td>\n",
       "      <td>60.733767</td>\n",
       "      <td>24.691358</td>\n",
       "      <td>5.790501</td>\n",
       "      <td>...</td>\n",
       "      <td>9.876543</td>\n",
       "      <td>0.000000</td>\n",
       "      <td>0.000000</td>\n",
       "      <td>0.232117</td>\n",
       "      <td>0.799323</td>\n",
       "      <td>0.000000</td>\n",
       "      <td>138.312586</td>\n",
       "      <td>53.648069</td>\n",
       "      <td>38.346910</td>\n",
       "      <td>61.443299</td>\n",
       "    </tr>\n",
       "    <tr>\n",
       "      <th>2</th>\n",
       "      <td>E</td>\n",
       "      <td>H</td>\n",
       "      <td>3092.5</td>\n",
       "      <td>12627</td>\n",
       "      <td>25261.954407</td>\n",
       "      <td>74.248927</td>\n",
       "      <td>467.411062</td>\n",
       "      <td>164.213754</td>\n",
       "      <td>13.761468</td>\n",
       "      <td>4.608661</td>\n",
       "      <td>...</td>\n",
       "      <td>16.055046</td>\n",
       "      <td>2.382872</td>\n",
       "      <td>2.129194</td>\n",
       "      <td>0.691360</td>\n",
       "      <td>0.781631</td>\n",
       "      <td>24.390244</td>\n",
       "      <td>31.446541</td>\n",
       "      <td>213.534823</td>\n",
       "      <td>38.424459</td>\n",
       "      <td>56.554524</td>\n",
       "    </tr>\n",
       "    <tr>\n",
       "      <th>3</th>\n",
       "      <td>B</td>\n",
       "      <td>B</td>\n",
       "      <td>2366.0</td>\n",
       "      <td>5351</td>\n",
       "      <td>44879.911717</td>\n",
       "      <td>81.250000</td>\n",
       "      <td>2348.529702</td>\n",
       "      <td>158.685738</td>\n",
       "      <td>22.017030</td>\n",
       "      <td>4.317789</td>\n",
       "      <td>...</td>\n",
       "      <td>15.625000</td>\n",
       "      <td>5.112426</td>\n",
       "      <td>0.000000</td>\n",
       "      <td>0.449230</td>\n",
       "      <td>0.742219</td>\n",
       "      <td>0.000000</td>\n",
       "      <td>57.971014</td>\n",
       "      <td>151.114469</td>\n",
       "      <td>42.963371</td>\n",
       "      <td>62.500000</td>\n",
       "    </tr>\n",
       "    <tr>\n",
       "      <th>4</th>\n",
       "      <td>E</td>\n",
       "      <td>G</td>\n",
       "      <td>2503.2</td>\n",
       "      <td>95832</td>\n",
       "      <td>44304.781657</td>\n",
       "      <td>89.245283</td>\n",
       "      <td>1057.244276</td>\n",
       "      <td>206.701719</td>\n",
       "      <td>17.681729</td>\n",
       "      <td>4.198653</td>\n",
       "      <td>...</td>\n",
       "      <td>13.490504</td>\n",
       "      <td>1.911055</td>\n",
       "      <td>0.699937</td>\n",
       "      <td>0.454416</td>\n",
       "      <td>0.900853</td>\n",
       "      <td>254.668930</td>\n",
       "      <td>86.380651</td>\n",
       "      <td>260.957117</td>\n",
       "      <td>58.881551</td>\n",
       "      <td>77.380565</td>\n",
       "    </tr>\n",
       "  </tbody>\n",
       "</table>\n",
       "<p>5 rows × 57 columns</p>\n",
       "</div>"
      ],
      "text/plain": [
       "  Q001 Q006  nota_final    pop        pib_pc   cv_polio        hcsap  \\\n",
       "0    H    G      2654.0  95832  44304.781657  89.245283  1057.244276   \n",
       "1    C    C      2592.9   7788  28530.854186  50.537634   216.543958   \n",
       "2    E    H      3092.5  12627  25261.954407  74.248927   467.411062   \n",
       "3    B    B      2366.0   5351  44879.911717  81.250000  2348.529702   \n",
       "4    E    G      2503.2  95832  44304.781657  89.245283  1057.244276   \n",
       "\n",
       "       macsap        mi5  subnutricao  ...       ga19      ppau        ti  \\\n",
       "0  206.701719  17.681729     4.198653  ...  13.490504  1.911055  0.699937   \n",
       "1   60.733767  24.691358     5.790501  ...   9.876543  0.000000  0.000000   \n",
       "2  164.213754  13.761468     4.608661  ...  16.055046  2.382872  2.129194   \n",
       "3  158.685738  22.017030     4.317789  ...  15.625000  5.112426  0.000000   \n",
       "4  206.701719  17.681729     4.198653  ...  13.490504  1.911055  0.699937   \n",
       "\n",
       "       pgcm     pnpcm         vci         vcn         vcm        ees  \\\n",
       "0  0.454416  0.900853  254.668930   86.380651  260.957117  58.881551   \n",
       "1  0.232117  0.799323    0.000000  138.312586   53.648069  38.346910   \n",
       "2  0.691360  0.781631   24.390244   31.446541  213.534823  38.424459   \n",
       "3  0.449230  0.742219    0.000000   57.971014  151.114469  42.963371   \n",
       "4  0.454416  0.900853  254.668930   86.380651  260.957117  58.881551   \n",
       "\n",
       "        mees  \n",
       "0  77.380565  \n",
       "1  61.443299  \n",
       "2  56.554524  \n",
       "3  62.500000  \n",
       "4  77.380565  \n",
       "\n",
       "[5 rows x 57 columns]"
      ]
     },
     "execution_count": 3,
     "metadata": {},
     "output_type": "execute_result"
    }
   ],
   "source": [
    "data = fetch.fetch_data(client, query)\n",
    "data.head()"
   ]
  },
  {
   "cell_type": "code",
   "execution_count": 4,
   "metadata": {},
   "outputs": [
    {
     "data": {
      "text/plain": [
       "(721426, 57)"
      ]
     },
     "execution_count": 4,
     "metadata": {},
     "output_type": "execute_result"
    }
   ],
   "source": [
    "data.shape"
   ]
  },
  {
   "cell_type": "code",
   "execution_count": 5,
   "metadata": {},
   "outputs": [],
   "source": [
    "reg_models_to_test = {\n",
    "        'RandomForest': RandomForestRegressor(random_state=42),\n",
    "        'GradientBoosting': GradientBoostingRegressor(random_state=42),\n",
    "        'LASSO': LassoCV(cv=5, random_state=42),\n",
    "        'Ridge': RidgeCV(cv=5)\n",
    "    }\n",
    "\n",
    "clf_models_to_test = {\n",
    "        'RandomForest': RandomForestClassifier(random_state=42),\n",
    "        # 'GradientBoosting': GradientBoostingClassifier(random_state=42),\n",
    "        # 'SGD + L1': SGDClassifier(loss='log_loss', penalty='l1', alpha=0.01),\n",
    "        # 'Ridge': RidgeClassifierCV(cv=5)\n",
    "    }"
   ]
  },
  {
   "cell_type": "code",
   "execution_count": 7,
   "metadata": {},
   "outputs": [],
   "source": [
    "df_unified = data.copy()\n",
    "\n",
    "# Calcular a diferença em relação à média da faixa de renda\n",
    "df_unified['nota_diff'] = df_unified['nota_final'] - df_unified.groupby('Q006')['nota_final'].transform('mean')\n",
    "\n",
    "# Transformar em variável binária\n",
    "# 1 = desempenho acima da média para a faixa de renda\n",
    "# 0 = desempenho abaixo da média para a faixa de renda\n",
    "df_unified['above_average'] = (df_unified['nota_diff'] > 0).astype(int)\n",
    "\n",
    "# Converter Q006 para variáveis dummy\n",
    "df_unified = pd.get_dummies(df_unified, columns=['Q006'], prefix='renda')\n",
    "df_unified = pd.get_dummies(df_unified, columns=['Q001'], prefix='escolaridade_dos_pais')\n",
    "\n",
    "# Definir features e target\n",
    "X = df_unified.drop(columns=[\"nota_final\", \"nota_diff\", \"above_average\"])\n",
    "y = df_unified[\"nota_diff\"]\n",
    "y_clf = df_unified[\"above_average\"]"
   ]
  },
  {
   "cell_type": "code",
   "execution_count": 8,
   "metadata": {},
   "outputs": [
    {
     "name": "stdout",
     "output_type": "stream",
     "text": [
      "\n",
      "RANDOMFOREST: CV mean R²: 0.5747 ± 0.0013\n",
      "\n"
     ]
    },
    {
     "ename": "ValueError",
     "evalue": "cannot set WRITEABLE flag to True of this array",
     "output_type": "error",
     "traceback": [
      "\u001b[31m---------------------------------------------------------------------------\u001b[39m",
      "\u001b[31m_RemoteTraceback\u001b[39m                          Traceback (most recent call last)",
      "\u001b[31m_RemoteTraceback\u001b[39m: \n\"\"\"\nTraceback (most recent call last):\n  File \"/Users/fparadas/www/masters/enem-analysis/.venv/lib/python3.12/site-packages/joblib/externals/loky/process_executor.py\", line 463, in _process_worker\n    r = call_item()\n        ^^^^^^^^^^^\n  File \"/Users/fparadas/www/masters/enem-analysis/.venv/lib/python3.12/site-packages/joblib/externals/loky/process_executor.py\", line 291, in __call__\n    return self.fn(*self.args, **self.kwargs)\n           ^^^^^^^^^^^^^^^^^^^^^^^^^^^^^^^^^^\n  File \"/Users/fparadas/www/masters/enem-analysis/.venv/lib/python3.12/site-packages/joblib/parallel.py\", line 589, in __call__\n    return [func(*args, **kwargs)\n            ^^^^^^^^^^^^^^^^^^^^^\n  File \"/Users/fparadas/www/masters/enem-analysis/src/process.py\", line 79, in train_and_evaluate_model\n    model.fit(X_train, y_train)\n  File \"/Users/fparadas/www/masters/enem-analysis/.venv/lib/python3.12/site-packages/sklearn/base.py\", line 1474, in wrapper\n    return fit_method(estimator, *args, **kwargs)\n           ^^^^^^^^^^^^^^^^^^^^^^^^^^^^^^^^^^^^^^\n  File \"/Users/fparadas/www/masters/enem-analysis/.venv/lib/python3.12/site-packages/sklearn/ensemble/_forest.py\", line 363, in fit\n    X, y = self._validate_data(\n           ^^^^^^^^^^^^^^^^^^^^\n  File \"/Users/fparadas/www/masters/enem-analysis/.venv/lib/python3.12/site-packages/sklearn/base.py\", line 650, in _validate_data\n    X, y = check_X_y(X, y, **check_params)\n           ^^^^^^^^^^^^^^^^^^^^^^^^^^^^^^^\n  File \"/Users/fparadas/www/masters/enem-analysis/.venv/lib/python3.12/site-packages/sklearn/utils/validation.py\", line 1279, in check_X_y\n    y = _check_y(y, multi_output=multi_output, y_numeric=y_numeric, estimator=estimator)\n        ^^^^^^^^^^^^^^^^^^^^^^^^^^^^^^^^^^^^^^^^^^^^^^^^^^^^^^^^^^^^^^^^^^^^^^^^^^^^^^^^\n  File \"/Users/fparadas/www/masters/enem-analysis/.venv/lib/python3.12/site-packages/sklearn/utils/validation.py\", line 1289, in _check_y\n    y = check_array(\n        ^^^^^^^^^^^^\n  File \"/Users/fparadas/www/masters/enem-analysis/.venv/lib/python3.12/site-packages/sklearn/utils/validation.py\", line 1097, in check_array\n    array.flags.writeable = True\n    ^^^^^^^^^^^^^^^^^^^^^\nValueError: cannot set WRITEABLE flag to True of this array\n\"\"\"",
      "\nThe above exception was the direct cause of the following exception:\n",
      "\u001b[31mValueError\u001b[39m                                Traceback (most recent call last)",
      "\u001b[36mCell\u001b[39m\u001b[36m \u001b[39m\u001b[32mIn[8]\u001b[39m\u001b[32m, line 1\u001b[39m\n\u001b[32m----> \u001b[39m\u001b[32m1\u001b[39m clf_models = \u001b[43mprocess\u001b[49m\u001b[43m.\u001b[49m\u001b[43mrun\u001b[49m\u001b[43m(\u001b[49m\u001b[43mX\u001b[49m\u001b[43m,\u001b[49m\u001b[43m \u001b[49m\u001b[43my_clf\u001b[49m\u001b[43m,\u001b[49m\u001b[43m \u001b[49m\u001b[43mclf_models_to_test\u001b[49m\u001b[43m)\u001b[49m\n",
      "\u001b[36mFile \u001b[39m\u001b[32m~/www/masters/enem-analysis/src/process.py:141\u001b[39m, in \u001b[36mrun\u001b[39m\u001b[34m(X, y, models, min_cv_mean_score)\u001b[39m\n\u001b[32m    137\u001b[39m X_train, X_test, y_train, y_test = train_test_split(X, y, test_size=\u001b[32m0.2\u001b[39m, random_state=\u001b[32m42\u001b[39m)\n\u001b[32m    139\u001b[39m X_train, X_test = preprocess(X_train, X_test)\n\u001b[32m--> \u001b[39m\u001b[32m141\u001b[39m \u001b[38;5;28;01mreturn\u001b[39;00m \u001b[43mtrain_models_parallel\u001b[49m\u001b[43m(\u001b[49m\u001b[43mmodels\u001b[49m\u001b[43m,\u001b[49m\u001b[43m \u001b[49m\u001b[43mX_train\u001b[49m\u001b[43m,\u001b[49m\u001b[43m \u001b[49m\u001b[43my_train\u001b[49m\u001b[43m,\u001b[49m\u001b[43m \u001b[49m\u001b[43mX_test\u001b[49m\u001b[43m,\u001b[49m\u001b[43m \u001b[49m\u001b[43my_test\u001b[49m\u001b[43m,\u001b[49m\u001b[43m \u001b[49m\u001b[43mmin_cv_mean_score\u001b[49m\u001b[43m,\u001b[49m\u001b[43m \u001b[49m\u001b[43mn_jobs\u001b[49m\u001b[43m=\u001b[49m\u001b[43m-\u001b[49m\u001b[32;43m1\u001b[39;49m\u001b[43m)\u001b[49m\n",
      "\u001b[36mFile \u001b[39m\u001b[32m~/www/masters/enem-analysis/src/process.py:112\u001b[39m, in \u001b[36mtrain_models_parallel\u001b[39m\u001b[34m(models, X_train, y_train, X_test, y_test, min_cv_mean_score, n_jobs)\u001b[39m\n\u001b[32m    110\u001b[39m \u001b[38;5;28;01mdef\u001b[39;00m\u001b[38;5;250m \u001b[39m\u001b[34mtrain_models_parallel\u001b[39m(models, X_train, y_train, X_test, y_test, min_cv_mean_score=\u001b[32m0.5\u001b[39m, n_jobs=-\u001b[32m1\u001b[39m):\n\u001b[32m    111\u001b[39m \u001b[38;5;250m    \u001b[39m\u001b[33;03m\"\"\"Train multiple models in parallel.\"\"\"\u001b[39;00m\n\u001b[32m--> \u001b[39m\u001b[32m112\u001b[39m     \u001b[38;5;28;01mreturn\u001b[39;00m \u001b[43mParallel\u001b[49m\u001b[43m(\u001b[49m\u001b[43mn_jobs\u001b[49m\u001b[43m=\u001b[49m\u001b[43mn_jobs\u001b[49m\u001b[43m)\u001b[49m\u001b[43m(\u001b[49m\n\u001b[32m    113\u001b[39m \u001b[43m        \u001b[49m\u001b[43mdelayed\u001b[49m\u001b[43m(\u001b[49m\u001b[43mtrain_and_evaluate_model\u001b[49m\u001b[43m)\u001b[49m\u001b[43m(\u001b[49m\n\u001b[32m    114\u001b[39m \u001b[43m            \u001b[49m\u001b[43mmodel_name\u001b[49m\u001b[43m,\u001b[49m\u001b[43m \u001b[49m\u001b[43mmodel\u001b[49m\u001b[43m,\u001b[49m\u001b[43m \u001b[49m\u001b[43mX_train\u001b[49m\u001b[43m,\u001b[49m\u001b[43m \u001b[49m\u001b[43my_train\u001b[49m\u001b[43m,\u001b[49m\u001b[43m \u001b[49m\u001b[43mX_test\u001b[49m\u001b[43m,\u001b[49m\u001b[43m \u001b[49m\u001b[43my_test\u001b[49m\u001b[43m,\u001b[49m\u001b[43m \u001b[49m\u001b[43mmin_cv_mean_score\u001b[49m\n\u001b[32m    115\u001b[39m \u001b[43m        \u001b[49m\u001b[43m)\u001b[49m\n\u001b[32m    116\u001b[39m \u001b[43m        \u001b[49m\u001b[38;5;28;43;01mfor\u001b[39;49;00m\u001b[43m \u001b[49m\u001b[43mmodel_name\u001b[49m\u001b[43m,\u001b[49m\u001b[43m \u001b[49m\u001b[43mmodel\u001b[49m\u001b[43m \u001b[49m\u001b[38;5;129;43;01min\u001b[39;49;00m\u001b[43m \u001b[49m\u001b[43mmodels\u001b[49m\u001b[43m.\u001b[49m\u001b[43mitems\u001b[49m\u001b[43m(\u001b[49m\u001b[43m)\u001b[49m\n\u001b[32m    117\u001b[39m \u001b[43m    \u001b[49m\u001b[43m)\u001b[49m\n",
      "\u001b[36mFile \u001b[39m\u001b[32m~/www/masters/enem-analysis/.venv/lib/python3.12/site-packages/joblib/parallel.py:1952\u001b[39m, in \u001b[36mParallel.__call__\u001b[39m\u001b[34m(self, iterable)\u001b[39m\n\u001b[32m   1946\u001b[39m \u001b[38;5;66;03m# The first item from the output is blank, but it makes the interpreter\u001b[39;00m\n\u001b[32m   1947\u001b[39m \u001b[38;5;66;03m# progress until it enters the Try/Except block of the generator and\u001b[39;00m\n\u001b[32m   1948\u001b[39m \u001b[38;5;66;03m# reach the first `yield` statement. This starts the aynchronous\u001b[39;00m\n\u001b[32m   1949\u001b[39m \u001b[38;5;66;03m# dispatch of the tasks to the workers.\u001b[39;00m\n\u001b[32m   1950\u001b[39m \u001b[38;5;28mnext\u001b[39m(output)\n\u001b[32m-> \u001b[39m\u001b[32m1952\u001b[39m \u001b[38;5;28;01mreturn\u001b[39;00m output \u001b[38;5;28;01mif\u001b[39;00m \u001b[38;5;28mself\u001b[39m.return_generator \u001b[38;5;28;01melse\u001b[39;00m \u001b[38;5;28;43mlist\u001b[39;49m\u001b[43m(\u001b[49m\u001b[43moutput\u001b[49m\u001b[43m)\u001b[49m\n",
      "\u001b[36mFile \u001b[39m\u001b[32m~/www/masters/enem-analysis/.venv/lib/python3.12/site-packages/joblib/parallel.py:1595\u001b[39m, in \u001b[36mParallel._get_outputs\u001b[39m\u001b[34m(self, iterator, pre_dispatch)\u001b[39m\n\u001b[32m   1592\u001b[39m     \u001b[38;5;28;01myield\u001b[39;00m\n\u001b[32m   1594\u001b[39m     \u001b[38;5;28;01mwith\u001b[39;00m \u001b[38;5;28mself\u001b[39m._backend.retrieval_context():\n\u001b[32m-> \u001b[39m\u001b[32m1595\u001b[39m         \u001b[38;5;28;01myield from\u001b[39;00m \u001b[38;5;28mself\u001b[39m._retrieve()\n\u001b[32m   1597\u001b[39m \u001b[38;5;28;01mexcept\u001b[39;00m \u001b[38;5;167;01mGeneratorExit\u001b[39;00m:\n\u001b[32m   1598\u001b[39m     \u001b[38;5;66;03m# The generator has been garbage collected before being fully\u001b[39;00m\n\u001b[32m   1599\u001b[39m     \u001b[38;5;66;03m# consumed. This aborts the remaining tasks if possible and warn\u001b[39;00m\n\u001b[32m   1600\u001b[39m     \u001b[38;5;66;03m# the user if necessary.\u001b[39;00m\n\u001b[32m   1601\u001b[39m     \u001b[38;5;28mself\u001b[39m._exception = \u001b[38;5;28;01mTrue\u001b[39;00m\n",
      "\u001b[36mFile \u001b[39m\u001b[32m~/www/masters/enem-analysis/.venv/lib/python3.12/site-packages/joblib/parallel.py:1699\u001b[39m, in \u001b[36mParallel._retrieve\u001b[39m\u001b[34m(self)\u001b[39m\n\u001b[32m   1692\u001b[39m \u001b[38;5;28;01mwhile\u001b[39;00m \u001b[38;5;28mself\u001b[39m._wait_retrieval():\n\u001b[32m   1693\u001b[39m \n\u001b[32m   1694\u001b[39m     \u001b[38;5;66;03m# If the callback thread of a worker has signaled that its task\u001b[39;00m\n\u001b[32m   1695\u001b[39m     \u001b[38;5;66;03m# triggered an exception, or if the retrieval loop has raised an\u001b[39;00m\n\u001b[32m   1696\u001b[39m     \u001b[38;5;66;03m# exception (e.g. `GeneratorExit`), exit the loop and surface the\u001b[39;00m\n\u001b[32m   1697\u001b[39m     \u001b[38;5;66;03m# worker traceback.\u001b[39;00m\n\u001b[32m   1698\u001b[39m     \u001b[38;5;28;01mif\u001b[39;00m \u001b[38;5;28mself\u001b[39m._aborting:\n\u001b[32m-> \u001b[39m\u001b[32m1699\u001b[39m         \u001b[38;5;28;43mself\u001b[39;49m\u001b[43m.\u001b[49m\u001b[43m_raise_error_fast\u001b[49m\u001b[43m(\u001b[49m\u001b[43m)\u001b[49m\n\u001b[32m   1700\u001b[39m         \u001b[38;5;28;01mbreak\u001b[39;00m\n\u001b[32m   1702\u001b[39m     \u001b[38;5;66;03m# If the next job is not ready for retrieval yet, we just wait for\u001b[39;00m\n\u001b[32m   1703\u001b[39m     \u001b[38;5;66;03m# async callbacks to progress.\u001b[39;00m\n",
      "\u001b[36mFile \u001b[39m\u001b[32m~/www/masters/enem-analysis/.venv/lib/python3.12/site-packages/joblib/parallel.py:1734\u001b[39m, in \u001b[36mParallel._raise_error_fast\u001b[39m\u001b[34m(self)\u001b[39m\n\u001b[32m   1730\u001b[39m \u001b[38;5;66;03m# If this error job exists, immediatly raise the error by\u001b[39;00m\n\u001b[32m   1731\u001b[39m \u001b[38;5;66;03m# calling get_result. This job might not exists if abort has been\u001b[39;00m\n\u001b[32m   1732\u001b[39m \u001b[38;5;66;03m# called directly or if the generator is gc'ed.\u001b[39;00m\n\u001b[32m   1733\u001b[39m \u001b[38;5;28;01mif\u001b[39;00m error_job \u001b[38;5;129;01mis\u001b[39;00m \u001b[38;5;129;01mnot\u001b[39;00m \u001b[38;5;28;01mNone\u001b[39;00m:\n\u001b[32m-> \u001b[39m\u001b[32m1734\u001b[39m     \u001b[43merror_job\u001b[49m\u001b[43m.\u001b[49m\u001b[43mget_result\u001b[49m\u001b[43m(\u001b[49m\u001b[38;5;28;43mself\u001b[39;49m\u001b[43m.\u001b[49m\u001b[43mtimeout\u001b[49m\u001b[43m)\u001b[49m\n",
      "\u001b[36mFile \u001b[39m\u001b[32m~/www/masters/enem-analysis/.venv/lib/python3.12/site-packages/joblib/parallel.py:736\u001b[39m, in \u001b[36mBatchCompletionCallBack.get_result\u001b[39m\u001b[34m(self, timeout)\u001b[39m\n\u001b[32m    730\u001b[39m backend = \u001b[38;5;28mself\u001b[39m.parallel._backend\n\u001b[32m    732\u001b[39m \u001b[38;5;28;01mif\u001b[39;00m backend.supports_retrieve_callback:\n\u001b[32m    733\u001b[39m     \u001b[38;5;66;03m# We assume that the result has already been retrieved by the\u001b[39;00m\n\u001b[32m    734\u001b[39m     \u001b[38;5;66;03m# callback thread, and is stored internally. It's just waiting to\u001b[39;00m\n\u001b[32m    735\u001b[39m     \u001b[38;5;66;03m# be returned.\u001b[39;00m\n\u001b[32m--> \u001b[39m\u001b[32m736\u001b[39m     \u001b[38;5;28;01mreturn\u001b[39;00m \u001b[38;5;28;43mself\u001b[39;49m\u001b[43m.\u001b[49m\u001b[43m_return_or_raise\u001b[49m\u001b[43m(\u001b[49m\u001b[43m)\u001b[49m\n\u001b[32m    738\u001b[39m \u001b[38;5;66;03m# For other backends, the main thread needs to run the retrieval step.\u001b[39;00m\n\u001b[32m    739\u001b[39m \u001b[38;5;28;01mtry\u001b[39;00m:\n",
      "\u001b[36mFile \u001b[39m\u001b[32m~/www/masters/enem-analysis/.venv/lib/python3.12/site-packages/joblib/parallel.py:754\u001b[39m, in \u001b[36mBatchCompletionCallBack._return_or_raise\u001b[39m\u001b[34m(self)\u001b[39m\n\u001b[32m    752\u001b[39m \u001b[38;5;28;01mtry\u001b[39;00m:\n\u001b[32m    753\u001b[39m     \u001b[38;5;28;01mif\u001b[39;00m \u001b[38;5;28mself\u001b[39m.status == TASK_ERROR:\n\u001b[32m--> \u001b[39m\u001b[32m754\u001b[39m         \u001b[38;5;28;01mraise\u001b[39;00m \u001b[38;5;28mself\u001b[39m._result\n\u001b[32m    755\u001b[39m     \u001b[38;5;28;01mreturn\u001b[39;00m \u001b[38;5;28mself\u001b[39m._result\n\u001b[32m    756\u001b[39m \u001b[38;5;28;01mfinally\u001b[39;00m:\n",
      "\u001b[31mValueError\u001b[39m: cannot set WRITEABLE flag to True of this array"
     ]
    }
   ],
   "source": [
    "clf_models = process.run(X, y_clf, clf_models_to_test)"
   ]
  },
  {
   "cell_type": "code",
   "execution_count": 8,
   "metadata": {},
   "outputs": [
    {
     "data": {
      "text/plain": [
       "[{'status': 'trained',\n",
       "  'message': 'Model trained successfully',\n",
       "  'data': {'model_name': 'RandomForest',\n",
       "   'model': RandomForestClassifier(random_state=42),\n",
       "   'cv_test_score_mean': 0.6223679668622714,\n",
       "   'cv_test_score_std': 0.003291005219875466,\n",
       "   'train_score': 1.0,\n",
       "   'test_score': 0.6298078819677305}}]"
      ]
     },
     "execution_count": 8,
     "metadata": {},
     "output_type": "execute_result"
    }
   ],
   "source": [
    "clf_models"
   ]
  },
  {
   "cell_type": "code",
   "execution_count": 14,
   "metadata": {},
   "outputs": [
    {
     "data": {
      "text/plain": [
       "<zip at 0x17d473280>"
      ]
     },
     "execution_count": 14,
     "metadata": {},
     "output_type": "execute_result"
    }
   ],
   "source": [
    "rf = clf_models[0]['data']['model']\n",
    "\n"
   ]
  },
  {
   "cell_type": "code",
   "execution_count": 22,
   "metadata": {},
   "outputs": [
    {
     "data": {
      "text/html": [
       "<div>\n",
       "<style scoped>\n",
       "    .dataframe tbody tr th:only-of-type {\n",
       "        vertical-align: middle;\n",
       "    }\n",
       "\n",
       "    .dataframe tbody tr th {\n",
       "        vertical-align: top;\n",
       "    }\n",
       "\n",
       "    .dataframe thead th {\n",
       "        text-align: right;\n",
       "    }\n",
       "</style>\n",
       "<table border=\"1\" class=\"dataframe\">\n",
       "  <thead>\n",
       "    <tr style=\"text-align: right;\">\n",
       "      <th></th>\n",
       "      <th>0</th>\n",
       "      <th>1</th>\n",
       "    </tr>\n",
       "  </thead>\n",
       "  <tbody>\n",
       "    <tr>\n",
       "      <th>0</th>\n",
       "      <td>pop</td>\n",
       "      <td>0.014438</td>\n",
       "    </tr>\n",
       "    <tr>\n",
       "      <th>1</th>\n",
       "      <td>pib_pc</td>\n",
       "      <td>0.006629</td>\n",
       "    </tr>\n",
       "    <tr>\n",
       "      <th>2</th>\n",
       "      <td>cv_polio</td>\n",
       "      <td>0.005357</td>\n",
       "    </tr>\n",
       "    <tr>\n",
       "      <th>3</th>\n",
       "      <td>hcsap</td>\n",
       "      <td>0.006116</td>\n",
       "    </tr>\n",
       "    <tr>\n",
       "      <th>4</th>\n",
       "      <td>macsap</td>\n",
       "      <td>0.006606</td>\n",
       "    </tr>\n",
       "  </tbody>\n",
       "</table>\n",
       "</div>"
      ],
      "text/plain": [
       "          0         1\n",
       "0       pop  0.014438\n",
       "1    pib_pc  0.006629\n",
       "2  cv_polio  0.005357\n",
       "3     hcsap  0.006116\n",
       "4    macsap  0.006606"
      ]
     },
     "execution_count": 22,
     "metadata": {},
     "output_type": "execute_result"
    }
   ],
   "source": [
    "features_df = pd.DataFrame(list(zip(X.columns, rf.feature_importances_)))\n",
    "features_df.head()"
   ]
  },
  {
   "cell_type": "code",
   "execution_count": 23,
   "metadata": {},
   "outputs": [
    {
     "data": {
      "image/png": "[encoded data removed]",
      "text/plain": [
       "<Figure size 640x480 with 1 Axes>"
      ]
     },
     "metadata": {},
     "output_type": "display_data"
    }
   ],
   "source": [
    "import matplotlib.pyplot as plt\n",
    "import seaborn as sns\n",
    "\n",
    "sns.set_theme(context=\"paper\", style=\"whitegrid\")\n",
    "\n",
    "sns.barplot(data=features_df, x=0, y=1)\n",
    "plt.xticks(rotation=90)\n",
    "plt.show()"
   ]
  },
  {
   "cell_type": "code",
   "execution_count": null,
   "metadata": {},
   "outputs": [],
   "source": []
  }
 ],
 "metadata": {
  "kernelspec": {
   "display_name": ".venv",
   "language": "python",
   "name": "python3"
  },
  "language_info": {
   "codemirror_mode": {
    "name": "ipython",
    "version": 3
   },
   "file_extension": ".py",
   "mimetype": "text/x-python",
   "name": "python",
   "nbconvert_exporter": "python",
   "pygments_lexer": "ipython3",
   "version": "3.12.7"
  }
 },
 "nbformat": 4,
 "nbformat_minor": 2
}
